{
 "cells": [
  {
   "cell_type": "code",
   "execution_count": 1,
   "id": "6113fd47",
   "metadata": {},
   "outputs": [],
   "source": [
    "import os\n",
    "from PyPDF2 import PdfFileMerger\n",
    "\n",
    "target_path = '/Users/xingj/OneDrive/GitHub/QCELS_test/TFIM_8'\n",
    "pdf_lst = [f for f in os.listdir(target_path) if f.endswith('.pdf')]\n",
    "pdf_lst = [os.path.join(target_path, filename) for filename in pdf_lst]\n",
    "\n",
    "file_merger = PdfFileMerger()\n",
    "for pdf in pdf_lst:\n",
    "    file_merger.append(pdf)     # 合并pdf文件\n",
    "\n",
    "file_merger.write(\"/Users/xingj/OneDrive/GitHub/QCELS_test/TFIM_8/TFIM_8.pdf\")\n",
    "\n",
    "target_path = '/Users/xingj/OneDrive/GitHub/QCELS_test/Hubbard_4'\n",
    "pdf_lst = [f for f in os.listdir(target_path) if f.endswith('.pdf')]\n",
    "pdf_lst = [os.path.join(target_path, filename) for filename in pdf_lst]\n",
    "\n",
    "file_merger = PdfFileMerger()\n",
    "for pdf in pdf_lst:\n",
    "    file_merger.append(pdf)     # 合并pdf文件\n",
    "\n",
    "file_merger.write(\"/Users/xingj/OneDrive/GitHub/QCELS_test/Hubbard_4/Hubbard_4.pdf\")\n",
    "\n",
    "target_path = '/Users/xingj/OneDrive/GitHub/QCELS_test/Hubbard_8'\n",
    "pdf_lst = [f for f in os.listdir(target_path) if f.endswith('.pdf')]\n",
    "pdf_lst = [os.path.join(target_path, filename) for filename in pdf_lst]\n",
    "\n",
    "file_merger = PdfFileMerger()\n",
    "for pdf in pdf_lst:\n",
    "    file_merger.append(pdf)     # 合并pdf文件\n",
    "\n",
    "file_merger.write(\"/Users/xingj/OneDrive/GitHub/QCELS_test/Hubbard_8/Hubbard_8.pdf\")"
   ]
  },
  {
   "cell_type": "code",
   "execution_count": null,
   "id": "66bea4aa",
   "metadata": {},
   "outputs": [],
   "source": []
  }
 ],
 "metadata": {
  "kernelspec": {
   "display_name": "Python 3 (ipykernel)",
   "language": "python",
   "name": "python3"
  },
  "language_info": {
   "codemirror_mode": {
    "name": "ipython",
    "version": 3
   },
   "file_extension": ".py",
   "mimetype": "text/x-python",
   "name": "python",
   "nbconvert_exporter": "python",
   "pygments_lexer": "ipython3",
   "version": "3.9.12"
  }
 },
 "nbformat": 4,
 "nbformat_minor": 5
}
